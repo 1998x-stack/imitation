{
 "cells": [
  {
   "cell_type": "code",
   "execution_count": 1,
   "metadata": {},
   "outputs": [],
   "source": [
    "import yairl.scripts as scripts\n",
    "import tensorflow as tf\n",
    "import gin.tf"
   ]
  },
  {
   "cell_type": "code",
   "execution_count": null,
   "metadata": {},
   "outputs": [],
   "source": [
    "tf.logging.set_verbosity(tf.logging.INFO)\n",
    "\n",
    "try:\n",
    "    tf.reset_default_graph()\n",
    "except:\n",
    "    pass\n",
    "\n",
    "gin.parse_config_file(\"../configs/notebook.gin\")\n",
    "\n",
    "scripts.train_and_plot(\"expert_models\", n_epochs=500, n_disc_steps_per_epoch=100, n_gen_steps_per_epoch=100,\n",
    "                        n_rollout_samples=400, n_plots_each_per_epoch=10,\n",
    "                        n_gen_plot_episodes=10)"
   ]
  },
  {
   "cell_type": "code",
   "execution_count": null,
   "metadata": {
    "scrolled": false
   },
   "outputs": [],
   "source": [
    "tf.logging.set_verbosity(tf.logging.INFO)\n",
    "\n",
    "try:\n",
    "    tf.reset_default_graph()\n",
    "except:\n",
    "    pass\n",
    "\n",
    "gin.parse_config_file(\"../configs/notebook.gin\")\n",
    "\n",
    "scripts.train_and_plot(\"expert_models\", n_epochs=500, n_disc_steps_per_epoch=100, n_gen_steps_per_epoch=100000,\n",
    "                        n_rollout_samples=4000, n_plots_each_per_epoch=10,\n",
    "                        n_gen_plot_episodes=10)"
   ]
  }
 ],
 "metadata": {
  "kernelspec": {
   "display_name": "Python 3",
   "language": "python",
   "name": "python3"
  },
  "language_info": {
   "codemirror_mode": {
    "name": "ipython",
    "version": 3.0
   },
   "file_extension": ".py",
   "mimetype": "text/x-python",
   "name": "python",
   "nbconvert_exporter": "python",
   "pygments_lexer": "ipython3",
   "version": "3.6.8"
  }
 },
 "nbformat": 4,
 "nbformat_minor": 0
}